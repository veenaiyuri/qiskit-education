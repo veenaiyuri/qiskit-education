{
 "cells": [
  {
   "cell_type": "code",
   "execution_count": 3,
   "metadata": {},
   "outputs": [],
   "source": [
    "from QiskitEducation import *\n",
    "\n",
    "qc = QuantumAlgorithm(3,3)"
   ]
  },
  {
   "cell_type": "code",
   "execution_count": 4,
   "metadata": {},
   "outputs": [
    {
     "name": "stdout",
     "output_type": "stream",
     "text": [
      "{'010': 270, '000': 254, '011': 246, '001': 254}\n"
     ]
    }
   ],
   "source": [
    "qc.h(qc.q[0])\n",
    "\n",
    "qc.h(qc.q[1])\n",
    "qc.cx(qc.q[1], qc.q[2])\n",
    "qc.cx(qc.q[0], qc.q[1])\n",
    "qc.h(qc.q[0])\n",
    "qc.measure(qc.q[0], qc.c[0])\n",
    "qc.measure(qc.q[1], qc.c[1])\n",
    "qc.cx(qc.q[1], qc.q[2])\n",
    "\n",
    "qc.cz(qc.q[0], qc.q[2])\n",
    "qc.h(qc.q[2])\n",
    "qc.measure(qc.q[2], qc.c[2])\n",
    "\n",
    "print(qc.execute()['counts'])"
   ]
  },
  {
   "cell_type": "code",
   "execution_count": null,
   "metadata": {},
   "outputs": [],
   "source": []
  },
  {
   "cell_type": "code",
   "execution_count": null,
   "metadata": {},
   "outputs": [],
   "source": []
  },
  {
   "cell_type": "code",
   "execution_count": null,
   "metadata": {},
   "outputs": [],
   "source": []
  }
 ],
 "metadata": {
  "kernelspec": {
   "display_name": "Python 3",
   "language": "python",
   "name": "python3"
  },
  "language_info": {
   "codemirror_mode": {
    "name": "ipython",
    "version": 3
   },
   "file_extension": ".py",
   "mimetype": "text/x-python",
   "name": "python",
   "nbconvert_exporter": "python",
   "pygments_lexer": "ipython3",
   "version": "3.6.6"
  }
 },
 "nbformat": 4,
 "nbformat_minor": 2
}

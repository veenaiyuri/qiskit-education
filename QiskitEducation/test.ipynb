{
 "cells": [
  {
   "cell_type": "code",
   "execution_count": 10,
   "metadata": {},
   "outputs": [],
   "source": [
    "from QiskitEducation import *"
   ]
  },
  {
   "cell_type": "code",
   "execution_count": 9,
   "metadata": {},
   "outputs": [
    {
     "name": "stdout",
     "output_type": "stream",
     "text": [
      "{'00': 507, '11': 517}\n",
      "{'00': 506, '11': 518}\n"
     ]
    }
   ],
   "source": [
    "for alg in [QuantumAlgorithm(2,2),QuantumAlgorithm( [(2,'q')] , [(2,'c')] )]:\n",
    "                        \n",
    "    alg.h(alg.q[0])\n",
    "    alg.cx(alg.q[0],alg.q[1])  \n",
    "\n",
    "    alg.measure(alg.q[0],alg.c[0])\n",
    "    alg.measure(alg.q[1],alg.c[1])   \n",
    "\n",
    "    print(alg.execute()['counts'])"
   ]
  },
  {
   "cell_type": "code",
   "execution_count": null,
   "metadata": {},
   "outputs": [],
   "source": []
  }
 ],
 "metadata": {
  "kernelspec": {
   "display_name": "Python 3",
   "language": "python",
   "name": "python3"
  },
  "language_info": {
   "codemirror_mode": {
    "name": "ipython",
    "version": 3
   },
   "file_extension": ".py",
   "mimetype": "text/x-python",
   "name": "python",
   "nbconvert_exporter": "python",
   "pygments_lexer": "ipython3",
   "version": "3.6.6"
  }
 },
 "nbformat": 4,
 "nbformat_minor": 2
}
